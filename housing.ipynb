{
 "cells": [
  {
   "cell_type": "code",
   "execution_count": 24,
   "metadata": {},
   "outputs": [],
   "source": [
    "import pandas as pd"
   ]
  },
  {
   "cell_type": "markdown",
   "metadata": {},
   "source": [
    "# Reading Data"
   ]
  },
  {
   "cell_type": "code",
   "execution_count": 25,
   "metadata": {},
   "outputs": [],
   "source": [
    "data = pd.read_csv(\"housing.csv\")"
   ]
  },
  {
   "cell_type": "code",
   "execution_count": 26,
   "metadata": {},
   "outputs": [
    {
     "data": {
      "text/html": [
       "<div>\n",
       "<style scoped>\n",
       "    .dataframe tbody tr th:only-of-type {\n",
       "        vertical-align: middle;\n",
       "    }\n",
       "\n",
       "    .dataframe tbody tr th {\n",
       "        vertical-align: top;\n",
       "    }\n",
       "\n",
       "    .dataframe thead th {\n",
       "        text-align: right;\n",
       "    }\n",
       "</style>\n",
       "<table border=\"1\" class=\"dataframe\">\n",
       "  <thead>\n",
       "    <tr style=\"text-align: right;\">\n",
       "      <th></th>\n",
       "      <th>longitude</th>\n",
       "      <th>latitude</th>\n",
       "      <th>housing_median_age</th>\n",
       "      <th>total_rooms</th>\n",
       "      <th>total_bedrooms</th>\n",
       "      <th>population</th>\n",
       "      <th>households</th>\n",
       "      <th>median_income</th>\n",
       "      <th>median_house_value</th>\n",
       "      <th>ocean_proximity</th>\n",
       "    </tr>\n",
       "  </thead>\n",
       "  <tbody>\n",
       "    <tr>\n",
       "      <th>0</th>\n",
       "      <td>-122.23</td>\n",
       "      <td>37.88</td>\n",
       "      <td>41</td>\n",
       "      <td>880</td>\n",
       "      <td>129.0</td>\n",
       "      <td>322</td>\n",
       "      <td>126</td>\n",
       "      <td>8.3252</td>\n",
       "      <td>452600</td>\n",
       "      <td>NEAR BAY</td>\n",
       "    </tr>\n",
       "    <tr>\n",
       "      <th>1</th>\n",
       "      <td>-122.22</td>\n",
       "      <td>37.86</td>\n",
       "      <td>21</td>\n",
       "      <td>7099</td>\n",
       "      <td>1106.0</td>\n",
       "      <td>2401</td>\n",
       "      <td>1138</td>\n",
       "      <td>8.3014</td>\n",
       "      <td>358500</td>\n",
       "      <td>NEAR BAY</td>\n",
       "    </tr>\n",
       "    <tr>\n",
       "      <th>2</th>\n",
       "      <td>-122.24</td>\n",
       "      <td>37.85</td>\n",
       "      <td>52</td>\n",
       "      <td>1467</td>\n",
       "      <td>190.0</td>\n",
       "      <td>496</td>\n",
       "      <td>177</td>\n",
       "      <td>7.2574</td>\n",
       "      <td>352100</td>\n",
       "      <td>NEAR BAY</td>\n",
       "    </tr>\n",
       "    <tr>\n",
       "      <th>3</th>\n",
       "      <td>-122.25</td>\n",
       "      <td>37.85</td>\n",
       "      <td>52</td>\n",
       "      <td>1274</td>\n",
       "      <td>235.0</td>\n",
       "      <td>558</td>\n",
       "      <td>219</td>\n",
       "      <td>5.6431</td>\n",
       "      <td>341300</td>\n",
       "      <td>NEAR BAY</td>\n",
       "    </tr>\n",
       "    <tr>\n",
       "      <th>4</th>\n",
       "      <td>-122.25</td>\n",
       "      <td>37.85</td>\n",
       "      <td>52</td>\n",
       "      <td>1627</td>\n",
       "      <td>280.0</td>\n",
       "      <td>565</td>\n",
       "      <td>259</td>\n",
       "      <td>3.8462</td>\n",
       "      <td>342200</td>\n",
       "      <td>NEAR BAY</td>\n",
       "    </tr>\n",
       "  </tbody>\n",
       "</table>\n",
       "</div>"
      ],
      "text/plain": [
       "   longitude  latitude  housing_median_age  total_rooms  total_bedrooms  \\\n",
       "0    -122.23     37.88                  41          880           129.0   \n",
       "1    -122.22     37.86                  21         7099          1106.0   \n",
       "2    -122.24     37.85                  52         1467           190.0   \n",
       "3    -122.25     37.85                  52         1274           235.0   \n",
       "4    -122.25     37.85                  52         1627           280.0   \n",
       "\n",
       "   population  households  median_income  median_house_value ocean_proximity  \n",
       "0         322         126         8.3252              452600        NEAR BAY  \n",
       "1        2401        1138         8.3014              358500        NEAR BAY  \n",
       "2         496         177         7.2574              352100        NEAR BAY  \n",
       "3         558         219         5.6431              341300        NEAR BAY  \n",
       "4         565         259         3.8462              342200        NEAR BAY  "
      ]
     },
     "execution_count": 26,
     "metadata": {},
     "output_type": "execute_result"
    }
   ],
   "source": [
    "data.head()"
   ]
  },
  {
   "cell_type": "markdown",
   "metadata": {},
   "source": [
    "# Sorting by Column"
   ]
  },
  {
   "cell_type": "code",
   "execution_count": 4,
   "metadata": {},
   "outputs": [
    {
     "data": {
      "text/html": [
       "<div>\n",
       "<style scoped>\n",
       "    .dataframe tbody tr th:only-of-type {\n",
       "        vertical-align: middle;\n",
       "    }\n",
       "\n",
       "    .dataframe tbody tr th {\n",
       "        vertical-align: top;\n",
       "    }\n",
       "\n",
       "    .dataframe thead th {\n",
       "        text-align: right;\n",
       "    }\n",
       "</style>\n",
       "<table border=\"1\" class=\"dataframe\">\n",
       "  <thead>\n",
       "    <tr style=\"text-align: right;\">\n",
       "      <th></th>\n",
       "      <th>longitude</th>\n",
       "      <th>latitude</th>\n",
       "      <th>housing_median_age</th>\n",
       "      <th>total_rooms</th>\n",
       "      <th>total_bedrooms</th>\n",
       "      <th>population</th>\n",
       "      <th>households</th>\n",
       "      <th>median_income</th>\n",
       "      <th>median_house_value</th>\n",
       "      <th>ocean_proximity</th>\n",
       "    </tr>\n",
       "  </thead>\n",
       "  <tbody>\n",
       "    <tr>\n",
       "      <th>14916</th>\n",
       "      <td>-117.04</td>\n",
       "      <td>32.63</td>\n",
       "      <td>26</td>\n",
       "      <td>2074</td>\n",
       "      <td>356.0</td>\n",
       "      <td>1228</td>\n",
       "      <td>335</td>\n",
       "      <td>4.1154</td>\n",
       "      <td>160200</td>\n",
       "      <td>NEAR OCEAN</td>\n",
       "    </tr>\n",
       "    <tr>\n",
       "      <th>15493</th>\n",
       "      <td>-117.20</td>\n",
       "      <td>33.12</td>\n",
       "      <td>18</td>\n",
       "      <td>4372</td>\n",
       "      <td>736.0</td>\n",
       "      <td>1473</td>\n",
       "      <td>675</td>\n",
       "      <td>5.1194</td>\n",
       "      <td>247800</td>\n",
       "      <td>NEAR OCEAN</td>\n",
       "    </tr>\n",
       "    <tr>\n",
       "      <th>15442</th>\n",
       "      <td>-117.27</td>\n",
       "      <td>33.18</td>\n",
       "      <td>4</td>\n",
       "      <td>3371</td>\n",
       "      <td>773.0</td>\n",
       "      <td>1481</td>\n",
       "      <td>627</td>\n",
       "      <td>2.9133</td>\n",
       "      <td>215700</td>\n",
       "      <td>NEAR OCEAN</td>\n",
       "    </tr>\n",
       "    <tr>\n",
       "      <th>15443</th>\n",
       "      <td>-117.26</td>\n",
       "      <td>33.19</td>\n",
       "      <td>4</td>\n",
       "      <td>2342</td>\n",
       "      <td>595.0</td>\n",
       "      <td>1518</td>\n",
       "      <td>545</td>\n",
       "      <td>2.9469</td>\n",
       "      <td>216100</td>\n",
       "      <td>NEAR OCEAN</td>\n",
       "    </tr>\n",
       "    <tr>\n",
       "      <th>15444</th>\n",
       "      <td>-117.26</td>\n",
       "      <td>33.19</td>\n",
       "      <td>2</td>\n",
       "      <td>2629</td>\n",
       "      <td>509.0</td>\n",
       "      <td>1044</td>\n",
       "      <td>522</td>\n",
       "      <td>4.2361</td>\n",
       "      <td>158500</td>\n",
       "      <td>NEAR OCEAN</td>\n",
       "    </tr>\n",
       "    <tr>\n",
       "      <th>...</th>\n",
       "      <td>...</td>\n",
       "      <td>...</td>\n",
       "      <td>...</td>\n",
       "      <td>...</td>\n",
       "      <td>...</td>\n",
       "      <td>...</td>\n",
       "      <td>...</td>\n",
       "      <td>...</td>\n",
       "      <td>...</td>\n",
       "      <td>...</td>\n",
       "    </tr>\n",
       "    <tr>\n",
       "      <th>6967</th>\n",
       "      <td>-118.04</td>\n",
       "      <td>33.98</td>\n",
       "      <td>50</td>\n",
       "      <td>1951</td>\n",
       "      <td>458.0</td>\n",
       "      <td>1362</td>\n",
       "      <td>454</td>\n",
       "      <td>3.0000</td>\n",
       "      <td>163200</td>\n",
       "      <td>&lt;1H OCEAN</td>\n",
       "    </tr>\n",
       "    <tr>\n",
       "      <th>6966</th>\n",
       "      <td>-118.06</td>\n",
       "      <td>33.99</td>\n",
       "      <td>45</td>\n",
       "      <td>1471</td>\n",
       "      <td>255.0</td>\n",
       "      <td>670</td>\n",
       "      <td>250</td>\n",
       "      <td>4.5478</td>\n",
       "      <td>188000</td>\n",
       "      <td>&lt;1H OCEAN</td>\n",
       "    </tr>\n",
       "    <tr>\n",
       "      <th>6965</th>\n",
       "      <td>-118.06</td>\n",
       "      <td>33.99</td>\n",
       "      <td>46</td>\n",
       "      <td>1203</td>\n",
       "      <td>219.0</td>\n",
       "      <td>637</td>\n",
       "      <td>211</td>\n",
       "      <td>3.3611</td>\n",
       "      <td>174400</td>\n",
       "      <td>&lt;1H OCEAN</td>\n",
       "    </tr>\n",
       "    <tr>\n",
       "      <th>6964</th>\n",
       "      <td>-118.06</td>\n",
       "      <td>33.99</td>\n",
       "      <td>47</td>\n",
       "      <td>1588</td>\n",
       "      <td>309.0</td>\n",
       "      <td>827</td>\n",
       "      <td>292</td>\n",
       "      <td>3.7833</td>\n",
       "      <td>166100</td>\n",
       "      <td>&lt;1H OCEAN</td>\n",
       "    </tr>\n",
       "    <tr>\n",
       "      <th>10320</th>\n",
       "      <td>-117.78</td>\n",
       "      <td>33.85</td>\n",
       "      <td>16</td>\n",
       "      <td>3781</td>\n",
       "      <td>504.0</td>\n",
       "      <td>1665</td>\n",
       "      <td>499</td>\n",
       "      <td>7.2554</td>\n",
       "      <td>335600</td>\n",
       "      <td>&lt;1H OCEAN</td>\n",
       "    </tr>\n",
       "  </tbody>\n",
       "</table>\n",
       "<p>20640 rows × 10 columns</p>\n",
       "</div>"
      ],
      "text/plain": [
       "       longitude  latitude  housing_median_age  total_rooms  total_bedrooms  \\\n",
       "14916    -117.04     32.63                  26         2074           356.0   \n",
       "15493    -117.20     33.12                  18         4372           736.0   \n",
       "15442    -117.27     33.18                   4         3371           773.0   \n",
       "15443    -117.26     33.19                   4         2342           595.0   \n",
       "15444    -117.26     33.19                   2         2629           509.0   \n",
       "...          ...       ...                 ...          ...             ...   \n",
       "6967     -118.04     33.98                  50         1951           458.0   \n",
       "6966     -118.06     33.99                  45         1471           255.0   \n",
       "6965     -118.06     33.99                  46         1203           219.0   \n",
       "6964     -118.06     33.99                  47         1588           309.0   \n",
       "10320    -117.78     33.85                  16         3781           504.0   \n",
       "\n",
       "       population  households  median_income  median_house_value  \\\n",
       "14916        1228         335         4.1154              160200   \n",
       "15493        1473         675         5.1194              247800   \n",
       "15442        1481         627         2.9133              215700   \n",
       "15443        1518         545         2.9469              216100   \n",
       "15444        1044         522         4.2361              158500   \n",
       "...           ...         ...            ...                 ...   \n",
       "6967         1362         454         3.0000              163200   \n",
       "6966          670         250         4.5478              188000   \n",
       "6965          637         211         3.3611              174400   \n",
       "6964          827         292         3.7833              166100   \n",
       "10320        1665         499         7.2554              335600   \n",
       "\n",
       "      ocean_proximity  \n",
       "14916      NEAR OCEAN  \n",
       "15493      NEAR OCEAN  \n",
       "15442      NEAR OCEAN  \n",
       "15443      NEAR OCEAN  \n",
       "15444      NEAR OCEAN  \n",
       "...               ...  \n",
       "6967        <1H OCEAN  \n",
       "6966        <1H OCEAN  \n",
       "6965        <1H OCEAN  \n",
       "6964        <1H OCEAN  \n",
       "10320       <1H OCEAN  \n",
       "\n",
       "[20640 rows x 10 columns]"
      ]
     },
     "execution_count": 4,
     "metadata": {},
     "output_type": "execute_result"
    }
   ],
   "source": [
    "data.sort_values(by='ocean_proximity', ascending=False)"
   ]
  },
  {
   "cell_type": "code",
   "execution_count": 5,
   "metadata": {},
   "outputs": [],
   "source": [
    "ocean_proximity =data.loc[data['ocean_proximity'].str.contains('NEAR BAY')]"
   ]
  },
  {
   "cell_type": "code",
   "execution_count": 6,
   "metadata": {},
   "outputs": [
    {
     "name": "stdout",
     "output_type": "stream",
     "text": [
      "       longitude  latitude  housing_median_age  total_rooms  total_bedrooms  \\\n",
      "0        -122.23     37.88                  41          880           129.0   \n",
      "1        -122.22     37.86                  21         7099          1106.0   \n",
      "2        -122.24     37.85                  52         1467           190.0   \n",
      "3        -122.25     37.85                  52         1274           235.0   \n",
      "4        -122.25     37.85                  52         1627           280.0   \n",
      "...          ...       ...                 ...          ...             ...   \n",
      "19067    -122.45     38.28                  20         3306           503.0   \n",
      "19068    -122.47     38.29                  14         3732           846.0   \n",
      "19069    -122.45     38.27                  25         5024           881.0   \n",
      "19077    -122.49     38.27                   8         5092           988.0   \n",
      "19104    -122.51     38.17                   8         5875          1115.0   \n",
      "\n",
      "       population  households  median_income  median_house_value  \\\n",
      "0             322         126         8.3252              452600   \n",
      "1            2401        1138         8.3014              358500   \n",
      "2             496         177         7.2574              352100   \n",
      "3             558         219         5.6431              341300   \n",
      "4             565         259         3.8462              342200   \n",
      "...           ...         ...            ...                 ...   \n",
      "19067        1374         460         5.7984              297600   \n",
      "19068        1277         775         2.5658              208000   \n",
      "19069        1994         838         4.2237              262300   \n",
      "19077        1657         936         3.5625              213200   \n",
      "19104        2808        1029         3.6392              246300   \n",
      "\n",
      "      ocean_proximity  \n",
      "0            NEAR BAY  \n",
      "1            NEAR BAY  \n",
      "2            NEAR BAY  \n",
      "3            NEAR BAY  \n",
      "4            NEAR BAY  \n",
      "...               ...  \n",
      "19067        NEAR BAY  \n",
      "19068        NEAR BAY  \n",
      "19069        NEAR BAY  \n",
      "19077        NEAR BAY  \n",
      "19104        NEAR BAY  \n",
      "\n",
      "[2290 rows x 10 columns]\n"
     ]
    }
   ],
   "source": [
    "print(ocean_proximity)"
   ]
  },
  {
   "cell_type": "code",
   "execution_count": 18,
   "metadata": {
    "scrolled": true
   },
   "outputs": [
    {
     "name": "stdout",
     "output_type": "stream",
     "text": [
      "longitude                                                       -279977\n",
      "latitude                                                        86564.4\n",
      "housing_median_age                                                86402\n",
      "total_rooms                                                     5710320\n",
      "total_bedrooms                                               1.1672e+06\n",
      "population                                                      2817427\n",
      "households                                                      1118931\n",
      "median_income                                                   9555.91\n",
      "median_house_value                                            593596194\n",
      "ocean_proximity       NEAR BAYNEAR BAYNEAR BAYNEAR BAYNEAR BAYNEAR B...\n",
      "dtype: object\n"
     ]
    }
   ],
   "source": [
    "sum_data = ocean_proximity.sum(axis=0)\n",
    "print(sum_data)"
   ]
  },
  {
   "cell_type": "code",
   "execution_count": 49,
   "metadata": {},
   "outputs": [
    {
     "data": {
      "image/png": "[encoded data removed]",
      "text/plain": [
       "<Figure size 432x288 with 1 Axes>"
      ]
     },
     "metadata": {
      "needs_background": "light"
     },
     "output_type": "display_data"
    }
   ],
   "source": [
    "x_axis = sum_data[['total_rooms','total_bedrooms', 'population']]\n",
    "x_axis.plot(kind='bar', title='Near Bay', fontsize=12)\n",
    "plt.xlabel('Near Bay')\n",
    "plt.ylabel('Housing Peices')\n",
    "plt.show()\n"
   ]
  },
  {
   "cell_type": "code",
   "execution_count": 8,
   "metadata": {},
   "outputs": [],
   "source": [
    "ocean_proximity1 =data.loc[data['ocean_proximity'].str.contains('NEAR OCEAN')]"
   ]
  },
  {
   "cell_type": "code",
   "execution_count": 9,
   "metadata": {},
   "outputs": [
    {
     "name": "stdout",
     "output_type": "stream",
     "text": [
      "       longitude  latitude  housing_median_age  total_rooms  total_bedrooms  \\\n",
      "1850     -124.17     41.80                  16         2739           480.0   \n",
      "1851     -124.30     41.80                  19         2672           552.0   \n",
      "1852     -124.23     41.75                  11         3159           616.0   \n",
      "1853     -124.21     41.77                  17         3461           722.0   \n",
      "1854     -124.19     41.78                  15         3140           714.0   \n",
      "...          ...       ...                 ...          ...             ...   \n",
      "20380    -118.83     34.14                  16         1316           194.0   \n",
      "20381    -118.83     34.14                  16         1956           312.0   \n",
      "20423    -119.00     34.08                  17         1822           438.0   \n",
      "20424    -118.75     34.18                   4        16704          2704.0   \n",
      "20425    -118.75     34.17                  18         6217           858.0   \n",
      "\n",
      "       population  households  median_income  median_house_value  \\\n",
      "1850         1259         436         3.7557              109400   \n",
      "1851         1298         478         1.9797               85800   \n",
      "1852         1343         479         2.4805               73200   \n",
      "1853         1947         647         2.5795               68400   \n",
      "1854         1645         640         1.6654               74600   \n",
      "...           ...         ...            ...                 ...   \n",
      "20380         450         173        10.1597              500001   \n",
      "20381         671         319         6.4001              321800   \n",
      "20423         578         291         5.4346              428600   \n",
      "20424        6187        2207         6.6122              357600   \n",
      "20425        2703         834         6.8075              325900   \n",
      "\n",
      "      ocean_proximity  \n",
      "1850       NEAR OCEAN  \n",
      "1851       NEAR OCEAN  \n",
      "1852       NEAR OCEAN  \n",
      "1853       NEAR OCEAN  \n",
      "1854       NEAR OCEAN  \n",
      "...               ...  \n",
      "20380      NEAR OCEAN  \n",
      "20381      NEAR OCEAN  \n",
      "20423      NEAR OCEAN  \n",
      "20424      NEAR OCEAN  \n",
      "20425      NEAR OCEAN  \n",
      "\n",
      "[2658 rows x 10 columns]\n"
     ]
    }
   ],
   "source": [
    "print(ocean_proximity1)"
   ]
  },
  {
   "cell_type": "code",
   "execution_count": 40,
   "metadata": {},
   "outputs": [
    {
     "name": "stdout",
     "output_type": "stream",
     "text": [
      "longitude                                                       -317186\n",
      "latitude                                                        92334.8\n",
      "housing_median_age                                                78005\n",
      "total_rooms                                                     6867477\n",
      "total_bedrooms                                              1.41548e+06\n",
      "population                                                      3598955\n",
      "households                                                      1332308\n",
      "median_income                                                   10647.4\n",
      "median_house_value                                            662995512\n",
      "ocean_proximity       NEAR OCEANNEAR OCEANNEAR OCEANNEAR OCEANNEAR O...\n",
      "dtype: object\n"
     ]
    }
   ],
   "source": [
    "sum_data1 = ocean_proximity1.sum(axis=0)\n",
    "print(sum_data1)"
   ]
  },
  {
   "cell_type": "code",
   "execution_count": 39,
   "metadata": {},
   "outputs": [
    {
     "data": {
      "image/png": "[encoded data removed]",
      "text/plain": [
       "<Figure size 432x288 with 1 Axes>"
      ]
     },
     "metadata": {
      "needs_background": "light"
     },
     "output_type": "display_data"
    }
   ],
   "source": [
    "x_axis = sum_data1[['total_rooms','total_bedrooms', 'population']]\n",
    "x_axis.plot(kind='bar', title='Near Bay', fontsize=12)\n",
    "plt.xlabel('Near Ocean')\n",
    "plt.ylabel('Housing Peices')\n",
    "plt.show()"
   ]
  },
  {
   "cell_type": "code",
   "execution_count": 10,
   "metadata": {},
   "outputs": [],
   "source": [
    "ocean_proximity2 =data.loc[data['ocean_proximity'].str.contains('INLAND')]"
   ]
  },
  {
   "cell_type": "code",
   "execution_count": 11,
   "metadata": {},
   "outputs": [
    {
     "name": "stdout",
     "output_type": "stream",
     "text": [
      "       longitude  latitude  housing_median_age  total_rooms  total_bedrooms  \\\n",
      "954      -121.92     37.64                  46         1280           209.0   \n",
      "957      -121.90     37.66                  18         7397          1137.0   \n",
      "965      -121.88     37.68                  23         2234           270.0   \n",
      "967      -121.88     37.67                  16         4070           624.0   \n",
      "968      -121.88     37.67                  25         2244           301.0   \n",
      "...          ...       ...                 ...          ...             ...   \n",
      "20635    -121.09     39.48                  25         1665           374.0   \n",
      "20636    -121.21     39.49                  18          697           150.0   \n",
      "20637    -121.22     39.43                  17         2254           485.0   \n",
      "20638    -121.32     39.43                  18         1860           409.0   \n",
      "20639    -121.24     39.37                  16         2785           616.0   \n",
      "\n",
      "       population  households  median_income  median_house_value  \\\n",
      "954           512         208         5.1406              315600   \n",
      "957          3126        1115         6.4994              323000   \n",
      "965           854         286         7.3330              337200   \n",
      "967          1543         577         6.5214              311500   \n",
      "968           937         324         6.4524              296900   \n",
      "...           ...         ...            ...                 ...   \n",
      "20635         845         330         1.5603               78100   \n",
      "20636         356         114         2.5568               77100   \n",
      "20637        1007         433         1.7000               92300   \n",
      "20638         741         349         1.8672               84700   \n",
      "20639        1387         530         2.3886               89400   \n",
      "\n",
      "      ocean_proximity  \n",
      "954            INLAND  \n",
      "957            INLAND  \n",
      "965            INLAND  \n",
      "967            INLAND  \n",
      "968            INLAND  \n",
      "...               ...  \n",
      "20635          INLAND  \n",
      "20636          INLAND  \n",
      "20637          INLAND  \n",
      "20638          INLAND  \n",
      "20639          INLAND  \n",
      "\n",
      "[6551 rows x 10 columns]\n"
     ]
    }
   ],
   "source": [
    "print(ocean_proximity2)"
   ]
  },
  {
   "cell_type": "code",
   "execution_count": 42,
   "metadata": {},
   "outputs": [
    {
     "name": "stdout",
     "output_type": "stream",
     "text": [
      "longitude                                                       -784371\n",
      "latitude                                                         240630\n",
      "housing_median_age                                               159005\n",
      "total_rooms                                                    17803933\n",
      "total_bedrooms                                               3.4681e+06\n",
      "population                                                      9112744\n",
      "households                                                      3127759\n",
      "median_income                                                   21022.1\n",
      "median_house_value                                            817600123\n",
      "ocean_proximity       INLANDINLANDINLANDINLANDINLANDINLANDINLANDINLA...\n",
      "dtype: object\n"
     ]
    }
   ],
   "source": [
    "sum_data2 = ocean_proximity2.sum(axis=0)\n",
    "print(sum_data2)"
   ]
  },
  {
   "cell_type": "code",
   "execution_count": 43,
   "metadata": {},
   "outputs": [
    {
     "data": {
      "image/png": "[encoded data removed]",
      "text/plain": [
       "<Figure size 432x288 with 1 Axes>"
      ]
     },
     "metadata": {
      "needs_background": "light"
     },
     "output_type": "display_data"
    }
   ],
   "source": [
    "x_axis = sum_data2[['total_rooms','total_bedrooms', 'population']]\n",
    "x_axis.plot(kind='bar', title='Near Bay', fontsize=12)\n",
    "plt.xlabel('Inland')\n",
    "plt.ylabel('Housing Peices')\n",
    "plt.show()"
   ]
  },
  {
   "cell_type": "code",
   "execution_count": 12,
   "metadata": {},
   "outputs": [],
   "source": [
    "ocean_proximity3 = data.loc[data['ocean_proximity'].str.contains('ISLAND')]"
   ]
  },
  {
   "cell_type": "code",
   "execution_count": 13,
   "metadata": {},
   "outputs": [
    {
     "name": "stdout",
     "output_type": "stream",
     "text": [
      "      longitude  latitude  housing_median_age  total_rooms  total_bedrooms  \\\n",
      "8314    -118.32     33.35                  27         1675           521.0   \n",
      "8315    -118.33     33.34                  52         2359           591.0   \n",
      "8316    -118.32     33.33                  52         2127           512.0   \n",
      "8317    -118.32     33.34                  52          996           264.0   \n",
      "8318    -118.48     33.43                  29          716           214.0   \n",
      "\n",
      "      population  households  median_income  median_house_value  \\\n",
      "8314         744         331         2.1579              450000   \n",
      "8315        1100         431         2.8333              414700   \n",
      "8316         733         288         3.3906              300000   \n",
      "8317         341         160         2.7361              450000   \n",
      "8318         422         173         2.6042              287500   \n",
      "\n",
      "     ocean_proximity  \n",
      "8314          ISLAND  \n",
      "8315          ISLAND  \n",
      "8316          ISLAND  \n",
      "8317          ISLAND  \n",
      "8318          ISLAND  \n"
     ]
    }
   ],
   "source": [
    "print(ocean_proximity3)\n"
   ]
  },
  {
   "cell_type": "code",
   "execution_count": 45,
   "metadata": {},
   "outputs": [
    {
     "name": "stdout",
     "output_type": "stream",
     "text": [
      "longitude                                    -591.77\n",
      "latitude                                      166.79\n",
      "housing_median_age                               212\n",
      "total_rooms                                     7873\n",
      "total_bedrooms                                  2102\n",
      "population                                      3340\n",
      "households                                      1383\n",
      "median_income                                13.7221\n",
      "median_house_value                           1902200\n",
      "ocean_proximity       ISLANDISLANDISLANDISLANDISLAND\n",
      "dtype: object\n"
     ]
    }
   ],
   "source": [
    "sum_data3 = ocean_proximity3.sum(axis=0)\n",
    "print(sum_data3)"
   ]
  },
  {
   "cell_type": "code",
   "execution_count": 46,
   "metadata": {},
   "outputs": [
    {
     "data": {
      "image/png": "[encoded data removed]",
      "text/plain": [
       "<Figure size 432x288 with 1 Axes>"
      ]
     },
     "metadata": {
      "needs_background": "light"
     },
     "output_type": "display_data"
    }
   ],
   "source": [
    "x_axis = sum_data3[['total_rooms','total_bedrooms', 'population']]\n",
    "x_axis.plot(kind='bar', title='Near Bay', fontsize=12)\n",
    "plt.xlabel('Island')\n",
    "plt.ylabel('Housing Peices')\n",
    "plt.show()"
   ]
  },
  {
   "cell_type": "code",
   "execution_count": 14,
   "metadata": {},
   "outputs": [],
   "source": [
    "ocean_proximity4 =data.loc[data['ocean_proximity'].str.contains('<1H OCEAN')]"
   ]
  },
  {
   "cell_type": "code",
   "execution_count": 15,
   "metadata": {},
   "outputs": [
    {
     "name": "stdout",
     "output_type": "stream",
     "text": [
      "       longitude  latitude  housing_median_age  total_rooms  total_bedrooms  \\\n",
      "701      -121.97     37.64                  32         1283           194.0   \n",
      "830      -121.99     37.61                   9         3666           711.0   \n",
      "859      -121.97     37.57                  21         4342           783.0   \n",
      "860      -121.96     37.58                  15         3575           597.0   \n",
      "861      -121.98     37.58                  20         4126          1031.0   \n",
      "...          ...       ...                 ...          ...             ...   \n",
      "20502    -118.68     34.33                  45          121            25.0   \n",
      "20503    -118.75     34.33                  27          534            85.0   \n",
      "20504    -118.73     34.29                  11         5451           736.0   \n",
      "20505    -118.72     34.29                  22         3266           529.0   \n",
      "20506    -118.73     34.29                   8         4983           754.0   \n",
      "\n",
      "       population  households  median_income  median_house_value  \\\n",
      "701           485         171         6.0574              431000   \n",
      "830          2341         703         4.6458              217000   \n",
      "859          2172         789         4.6146              247600   \n",
      "860          1777         559         5.7192              283500   \n",
      "861          2079         975         3.6832              216900   \n",
      "...           ...         ...            ...                 ...   \n",
      "20502          67          27         2.9821              325000   \n",
      "20503         243          77         8.2787              330000   \n",
      "20504        2526         752         7.3550              343900   \n",
      "20505        1595         494         6.0368              248000   \n",
      "20506        2510         725         6.9454              276500   \n",
      "\n",
      "      ocean_proximity  \n",
      "701         <1H OCEAN  \n",
      "830         <1H OCEAN  \n",
      "859         <1H OCEAN  \n",
      "860         <1H OCEAN  \n",
      "861         <1H OCEAN  \n",
      "...               ...  \n",
      "20502       <1H OCEAN  \n",
      "20503       <1H OCEAN  \n",
      "20504       <1H OCEAN  \n",
      "20505       <1H OCEAN  \n",
      "20506       <1H OCEAN  \n",
      "\n",
      "[9136 rows x 10 columns]\n"
     ]
    }
   ],
   "source": [
    "print(ocean_proximity4)"
   ]
  },
  {
   "cell_type": "code",
   "execution_count": 47,
   "metadata": {},
   "outputs": [
    {
     "name": "stdout",
     "output_type": "stream",
     "text": [
      "longitude                                                  -1.08579e+06\n",
      "latitude                                                         315745\n",
      "housing_median_age                                               267495\n",
      "total_rooms                                                    24012547\n",
      "total_bedrooms                                              4.93744e+06\n",
      "population                                                     13889374\n",
      "households                                                      4730118\n",
      "median_income                                                   38651.5\n",
      "median_house_value                                           2193410032\n",
      "ocean_proximity       <1H OCEAN<1H OCEAN<1H OCEAN<1H OCEAN<1H OCEAN<...\n",
      "dtype: object\n"
     ]
    }
   ],
   "source": [
    "sum_data4 = ocean_proximity4.sum(axis=0)\n",
    "print(sum_data4)"
   ]
  },
  {
   "cell_type": "code",
   "execution_count": 48,
   "metadata": {},
   "outputs": [
    {
     "data": {
      "image/png": "[encoded data removed]",
      "text/plain": [
       "<Figure size 432x288 with 1 Axes>"
      ]
     },
     "metadata": {
      "needs_background": "light"
     },
     "output_type": "display_data"
    }
   ],
   "source": [
    "x_axis = sum_data4[['total_rooms','total_bedrooms', 'population']]\n",
    "x_axis.plot(kind='bar', title='Near Bay', fontsize=12)\n",
    "plt.xlabel('<1H OCEAN')\n",
    "plt.ylabel('Housing Peices')\n",
    "plt.show()"
   ]
  },
  {
   "cell_type": "code",
   "execution_count": null,
   "metadata": {},
   "outputs": [],
   "source": []
  }
 ],
 "metadata": {
  "kernelspec": {
   "display_name": "Python 3",
   "language": "python",
   "name": "python3"
  },
  "language_info": {
   "codemirror_mode": {
    "name": "ipython",
    "version": 3
   },
   "file_extension": ".py",
   "mimetype": "text/x-python",
   "name": "python",
   "nbconvert_exporter": "python",
   "pygments_lexer": "ipython3",
   "version": "3.8.5"
  }
 },
 "nbformat": 4,
 "nbformat_minor": 4
}
